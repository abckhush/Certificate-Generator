{
  "nbformat": 4,
  "nbformat_minor": 0,
  "metadata": {
    "colab": {
      "provenance": []
    },
    "kernelspec": {
      "name": "python3",
      "display_name": "Python 3"
    },
    "language_info": {
      "name": "python"
    }
  },
  "cells": [
    {
      "cell_type": "code",
      "execution_count": 55,
      "metadata": {
        "id": "0JbyOiJggNlc"
      },
      "outputs": [],
      "source": [
        "import csv\n",
        "import cv2"
      ]
    },
    {
      "cell_type": "code",
      "source": [
        "csv_path = '/content/drive/MyDrive/Datasets/names.csv'"
      ],
      "metadata": {
        "id": "oqn-_13UgaHb"
      },
      "execution_count": 56,
      "outputs": []
    },
    {
      "cell_type": "code",
      "source": [
        "template_path='template.png'"
      ],
      "metadata": {
        "id": "ji4_K2UZhXas"
      },
      "execution_count": 57,
      "outputs": []
    },
    {
      "cell_type": "code",
      "source": [
        "output_path= '/content/drive/MyDrive/Certificates'"
      ],
      "metadata": {
        "id": "EZSa5i2DisxF"
      },
      "execution_count": 58,
      "outputs": []
    },
    {
      "cell_type": "code",
      "source": [
        "font_size=4\n",
        "font_color=(156,79,40)"
      ],
      "metadata": {
        "id": "T4OOrBINi_PE"
      },
      "execution_count": 112,
      "outputs": []
    },
    {
      "cell_type": "code",
      "source": [
        "coordinate_x_adjustment = 45\n",
        "coordinate_y_adjustment = 80"
      ],
      "metadata": {
        "id": "dqYZRFKOjeHt"
      },
      "execution_count": 129,
      "outputs": []
    },
    {
      "cell_type": "code",
      "source": [
        "names_list=[]"
      ],
      "metadata": {
        "id": "5z27GW0HjlFs"
      },
      "execution_count": 130,
      "outputs": []
    },
    {
      "cell_type": "code",
      "source": [
        "with open(csv_path, 'r') as file:\n",
        "  reader = csv.reader(file)\n",
        "  names_list = [row[0] for row in reader]"
      ],
      "metadata": {
        "id": "5z3VMctmjmvJ"
      },
      "execution_count": 131,
      "outputs": []
    },
    {
      "cell_type": "code",
      "source": [
        "for index, name in enumerate(names_list):\n",
        "  img= cv2.imread(template_path)\n",
        "  font= cv2.FONT_HERSHEY_SCRIPT_COMPLEX\n",
        "  text_size= cv2.getTextSize(name,font,font_size,10)[0]\n",
        "  text_x= (img.shape[1]-text_size[0])/2 +coordinate_x_adjustment\n",
        "  text_y= (img.shape[0]+text_size[1])/2-coordinate_y_adjustment\n",
        "  text_x= int(text_x)\n",
        "  text_y= int(text_y)\n",
        "  cv2.putText(img, name, (text_x, text_y), font, font_size, font_color, 10)\n",
        "  certificate_path = f\"{output_path}/certificate_{index + 1}.png\"\n",
        "  cv2.imwrite(certificate_path, img)\n",
        "  print(f'Processed Certificate ({index + 1}/{len(names_list)})')"
      ],
      "metadata": {
        "colab": {
          "base_uri": "https://localhost:8080/"
        },
        "id": "T63WZhJkkBqn",
        "outputId": "d9346d9b-5038-4371-cf63-7d4bc11c2161"
      },
      "execution_count": 132,
      "outputs": [
        {
          "output_type": "stream",
          "name": "stdout",
          "text": [
            "Processed Certificate (1/5)\n",
            "Processed Certificate (2/5)\n",
            "Processed Certificate (3/5)\n",
            "Processed Certificate (4/5)\n",
            "Processed Certificate (5/5)\n"
          ]
        }
      ]
    }
  ]
}